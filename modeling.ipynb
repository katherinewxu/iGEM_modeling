{
 "cells": [
  {
   "cell_type": "code",
   "execution_count": 1,
   "metadata": {},
   "outputs": [
    {
     "name": "stderr",
     "output_type": "stream",
     "text": [
      "Matplotlib is building the font cache; this may take a moment.\n"
     ]
    },
    {
     "ename": "ModuleNotFoundError",
     "evalue": "No module named 'poisbeta'",
     "output_type": "error",
     "traceback": [
      "\u001b[0;31m---------------------------------------------------------------------------\u001b[0m",
      "\u001b[0;31mModuleNotFoundError\u001b[0m                       Traceback (most recent call last)",
      "Cell \u001b[0;32mIn[1], line 5\u001b[0m\n\u001b[1;32m      3\u001b[0m \u001b[39mfrom\u001b[39;00m \u001b[39mscipy\u001b[39;00m\u001b[39m.\u001b[39;00m\u001b[39mintegrate\u001b[39;00m \u001b[39mimport\u001b[39;00m odeint\n\u001b[1;32m      4\u001b[0m \u001b[39mimport\u001b[39;00m \u001b[39mmatplotlib\u001b[39;00m\u001b[39m.\u001b[39;00m\u001b[39mpyplot\u001b[39;00m \u001b[39mas\u001b[39;00m \u001b[39mplt\u001b[39;00m\n\u001b[0;32m----> 5\u001b[0m \u001b[39mimport\u001b[39;00m \u001b[39mpoisbeta\u001b[39;00m\n\u001b[1;32m      6\u001b[0m \u001b[39mfrom\u001b[39;00m \u001b[39mdeap\u001b[39;00m \u001b[39mimport\u001b[39;00m base, creator, tools, algorithm\n",
      "\u001b[0;31mModuleNotFoundError\u001b[0m: No module named 'poisbeta'"
     ]
    }
   ],
   "source": [
    "import numpy as np\n",
    "import scipy.stats as stats\n",
    "from scipy.integrate import odeint\n",
    "import matplotlib.pyplot as plt\n",
    "import poisbeta\n",
    "from deap import base, creator, tools, algorithm"
   ]
  },
  {
   "cell_type": "code",
   "execution_count": null,
   "metadata": {},
   "outputs": [],
   "source": [
    "#prior initalizes the beta distribution before analysis (lambda) (constructor), and posterior stores the beta distribution\n",
    "#after (adding the data we found)\n",
    "class PoissonBetaModel:\n",
    "    def __init__(self, data, alpha_prior=2, beta_prior=5):\n",
    "        self.data = data\n",
    "        self.alpha_prior = alpha_prior\n",
    "        self.beta_prior = beta_prior\n",
    "    def posterior(self):\n",
    "        alpha_post = self.alpha_prior + np.sum(self.data)\n",
    "        beta_post = self.beta_prior + len(self.data)\n",
    "        return alpha_post, beta_post"
   ]
  },
  {
   "cell_type": "code",
   "execution_count": null,
   "metadata": {},
   "outputs": [],
   "source": [
    "#quantify randomness of genomic factor to then multiply it -- !!! HOW??\n",
    "def simulate_genomic_factors():\n",
    "    genomic_factor_dux4_fl = np.random.uniform(1, 10)\n",
    "    genomic_factor_dux4_dbd = np.random.uniform(1, 10)\n",
    "    return genomic_factor_dux4_fl, genomic_factor_dux4_dbd"
   ]
  },
  {
   "cell_type": "code",
   "execution_count": null,
   "metadata": {},
   "outputs": [],
   "source": [
    "#generate number of mRNA transcripts based on genomic factor (account for modulates the baseline expression rate to reflect how\n",
    "#genomic variations (such as mutations, copy number variations, or epigenetic modifications) influence the expression\n",
    "#level in a particular individual.)\n",
    "def generate_expression_data(genomic_factor, base_expression_rate, num_copies, size=100):\n",
    "    adjusted_expression_rate = genomic_factor * base_expression_rate * num_copies\n",
    "    return np.random.poisson(adjusted_expression_rate, size)"
   ]
  },
  {
   "cell_type": "code",
   "execution_count": null,
   "metadata": {},
   "outputs": [],
   "source": [
    "genomic_factor_dux4_fl, genomic_factor_dux4_dbd = simulate_genomic_factors()\n",
    "# !!! TBD\n",
    "base_expression_rate_dux4_fl = 10\n",
    "base_expression_rate_dux4_dbd = 2\n",
    "# !!! TBD (depends on patient)\n",
    "num_copies_dux4_fl = 1\n",
    "num_copies_dux4_dbd = 5"
   ]
  },
  {
   "cell_type": "code",
   "execution_count": null,
   "metadata": {},
   "outputs": [],
   "source": [
    "#store mRNA transcripts\n",
    "expression_data_dux4_fl = generate_expression_data(genomic_factor_dux4_fl, base_expression_rate_dux4_fl, num_copies_dux4_fl)\n",
    "expression_data_dux4_dbd = generate_expression_data(genomic_factor_dux4_dbd, base_expression_rate_dux4_dbd, num_copies_dux4_dbd)"
   ]
  },
  {
   "cell_type": "code",
   "execution_count": null,
   "metadata": {},
   "outputs": [],
   "source": [
    "#apply poisson-beta model for both isoforms to find parameters !!! CHANGE ALPHA AND BETA\n",
    "pois_beta_model_dux4_fl = PoissonBetaModel(expression_data_dux4_fl)\n",
    "pois_beta_model_dux4_dbd = PoissonBetaModel(expression_data_dux4_dbd)\n",
    "posterior_params_dux4_fl = pois_beta_model_dux4_fl.posterior()\n",
    "posterior_params_dux4_dbd = pois_beta_model_dux4_dbd.posterior()"
   ]
  },
  {
   "cell_type": "code",
   "execution_count": null,
   "metadata": {},
   "outputs": [],
   "source": [
    "#calculate optimal number of DUX4-DBD copies to suppress DUX4-FL.\n",
    "#we find the mean # after beta distribution and calculate the suppression ratio\n",
    "def optimize_gene_copies(posterior_params_fl, posterior_params_dbd):\n",
    "        alpha_fl_post, beta_fl_post = posterior_params_fl\n",
    "        alpha_dbd_post, beta_dbd_post = posterior_params_dbd #redefine poisbeta posterior variables\n",
    "        mean_fl = alpha_fl_post / (alpha_fl_post + beta_fl_post) #mean expression levels of both fl and dbd\n",
    "        mean_dbd = alpha_dbd_post / (alpha_dbd_post + beta_dbd_post)\n",
    "        suppression_ratio = mean_fl / mean_dbd #is this the correct way to calculate suppression ratio?\n",
    "        return suppression_ratio\n"
   ]
  },
  {
   "cell_type": "code",
   "execution_count": null,
   "metadata": {},
   "outputs": [],
   "source": [
    "optimal_copies_ratio = optimize_gene_copies(posterior_params_dux4_fl, posterior_params_dux4_dbd) #store in var!!\n",
    "print(\"Initial optimal DUX4-DBD copies ratio:\", optimal_copies_ratio)"
   ]
  },
  {
   "cell_type": "code",
   "execution_count": null,
   "metadata": {},
   "outputs": [],
   "source": [
    "#constants from paper\n",
    "d0 = 0.246\n",
    "vD = 0.00211\n",
    "vT = 6.41\n",
    "Dr = 1/20.2\n",
    "TD = 1/13\n",
    "infection_rate = 7.46e-4 #dux4 target mRNA"
   ]
  },
  {
   "cell_type": "code",
   "execution_count": null,
   "metadata": {},
   "outputs": [],
   "source": [
    "experimental_data = {'S': 60, 'E': 20, 'I': 15, 'R': 5, 'D': 0} #ALSO TBD, will then compare to model results"
   ]
  },
  {
   "cell_type": "code",
   "execution_count": null,
   "metadata": {},
   "outputs": [],
   "source": [
    "#define the system of ODEs for the compartment model\n",
    "def model(y, t, d0, vD, vT, Dr, TD, infection_rate):\n",
    "    S, E, I, R, D = y\n",
    "    dSdt = d0 * E - vD * S - infection_rate * (I + R) * S\n",
    "    dEdt = vD * S - E * (d0 + TD * vT) - infection_rate * (I + R) * E\n",
    "    dIdt = TD * vT * E + vD * R - d0 * I - Dr * I + infection_rate * (I + R) * E\n",
    "    dRdt = d0 * I - vD * R - Dr * R + infection_rate * (I + R) * S\n",
    "    dDdt = Dr * (R + I)\n",
    "    return [dSdt, dEdt, dIdt, dRdt, dDdt]"
   ]
  },
  {
   "cell_type": "code",
   "execution_count": null,
   "metadata": {},
   "outputs": [],
   "source": [
    "# Initial conditions\n",
    "y0 = [experimental_data['S'], experimental_data['E'], experimental_data['I'], experimental_data['R'], experimental_data['D']]\n",
    "time_points = np.linspace(0, 48, 1000)"
   ]
  },
  {
   "cell_type": "code",
   "execution_count": null,
   "metadata": {},
   "outputs": [],
   "source": [
    "def run_simulation(params, time_points):\n",
    "    d0, vD, vT, Dr, TD, infection_rate = params\n",
    "    solution = odeint(model, y0, time_points, args=(d0, vD, vT, Dr, TD, infection_rate))\n",
    "    return solution\n",
    "def fitness(individual):\n",
    "    \"\"\"\n",
    "    Fitness function for the genetic algorithm to optimize the model parameters.\n",
    "    \"\"\"\n",
    "    infection_rate, n = individual\n",
    "    params = [d0, vD, vT, Dr, TD, infection_rate]\n",
    "    solution = run_simulation(params, time_points)\n",
    "    S, E, I, R, D = solution[-1]\n",
    "    model_data = {'S': S, 'E': E, 'I': I, 'R': R, 'D': D}\n",
    "    fitness = 0\n",
    "    for key in experimental_data:\n",
    "        fitness -= abs(model_data[key] - experimental_data[key])\n",
    "    return (fitness,)"
   ]
  },
  {
   "cell_type": "code",
   "execution_count": null,
   "metadata": {},
   "outputs": [],
   "source": [
    "creator.create(\"FitnessMax\", base.Fitness, weights=(1.0,))\n",
    "creator.create(\"Individual\", list, fitness=creator.FitnessMax)\n",
    "\n",
    "toolbox = base.Toolbox()\n",
    "toolbox.register(\"attr_float\", np.random.uniform, 0, 1)\n",
    "toolbox.register(\"attr_int\", np.random.randint, 1, 300)\n",
    "toolbox.register(\"individual\", tools.initCycle, creator.Individual,\n",
    "                 (toolbox.attr_float, toolbox.attr_int), n=1)\n",
    "toolbox.register(\"population\", tools.initRepeat, list, toolbox.individual)\n",
    "toolbox.register(\"mate\", tools.cxBlend, alpha=0.5)\n",
    "toolbox.register(\"mutate\", tools.mutGaussian, mu=0, sigma=0.1, indpb=0.2)\n",
    "toolbox.register(\"select\", tools.selTournament, tournsize=3)\n",
    "toolbox.register(\"evaluate\", fitness)\n",
    "\n",
    "population = toolbox.population(n=100)\n",
    "ngen = 50\n",
    "cxpb = 0.5\n",
    "mutpb = 0.2\n",
    "\n",
    "result, logbook = algorithms.eaSimple(population, toolbox, cxpb=cxpb, mutpb=mutpb, ngen=ngen, verbose=False)\n",
    "\n",
    "best_individual = tools.selBest(population, k=1)[0]\n",
    "best_infection_rate, best_n = best_individual\n",
    "print(\"Best infection rate:\", best_infection_rate)\n",
    "print(\"Best n:\", best_n)\n",
    "\n",
    "final_params = [d0, vD, vT, Dr, TD, best_infection_rate]\n",
    "final_solution = run_simulation(final_params, time_points)\n",
    "S, E, I, R, D = final_solution.T"
   ]
  },
  {
   "cell_type": "code",
   "execution_count": null,
   "metadata": {},
   "outputs": [],
   "source": [
    "plt.figure(figsize=(10, 8))\n",
    "plt.plot(time_points, S, label='S (DUX4-ve/Target gene-ve)')\n",
    "plt.plot(time_points, E, label='E (DUX4+ve/Target gene-ve)')\n",
    "plt.plot(time_points, I, label='I (DUX4+ve/Target gene+ve)')\n",
    "plt.plot(time_points, R, label='R (DUX4-ve/Target gene+ve)')\n",
    "plt.plot(time_points, D, label='D (Dead cells)')\n",
    "plt.xlabel('Time (hours)')\n",
    "plt.ylabel('Number of cells')\n",
    "plt.legend()\n",
    "plt.title('Final Dynamics of DUX4 and Target Gene Expression with Optimized Parameters')\n",
    "plt.show()"
   ]
  }
 ],
 "metadata": {
  "kernelspec": {
   "display_name": "venv",
   "language": "python",
   "name": "python3"
  },
  "language_info": {
   "codemirror_mode": {
    "name": "ipython",
    "version": 3
   },
   "file_extension": ".py",
   "mimetype": "text/x-python",
   "name": "python",
   "nbconvert_exporter": "python",
   "pygments_lexer": "ipython3",
   "version": "3.10.13"
  },
  "orig_nbformat": 4
 },
 "nbformat": 4,
 "nbformat_minor": 2
}
