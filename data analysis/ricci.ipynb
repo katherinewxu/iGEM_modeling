{
 "cells": [
  {
   "cell_type": "code",
   "execution_count": null,
   "metadata": {},
   "outputs": [],
   "source": [
    "import pandas as pd\n",
    "from sklearn.model_selection import train_test_split\n",
    "from sklearn.ensemble import RandomForestRegressor\n",
    "from sklearn.metrics import mean_squared_error\n",
    "\n",
    "# Load the dataset with gene expression levels, methylation status, and clinical features\n",
    "data = pd.read_csv('fshd_data.csv')\n",
    "\n",
    "# Define the input features and target variable\n",
    "features = ['gene1', 'gene2', 'gene3', 'methylation_status', 'age', 'gender', 'initial_clinical_score']\n",
    "target = 'DUX4_fl_expression'\n",
    "\n",
    "X = data[features]\n",
    "y = data[target]\n",
    "\n",
    "# One-hot encode categorical variables (e.g., gender)\n",
    "X = pd.get_dummies(X, columns=['gender'], drop_first=True)\n",
    "\n",
    "# Split the data into training and testing sets\n",
    "X_train, X_test, y_train, y_test = train_test_split(X, y, test_size=0.3, random_state=42)\n",
    "\n",
    "# Train a Random Forest regressor\n",
    "regressor = RandomForestRegressor(n_estimators=100, random_state=42)\n",
    "regressor.fit(X_train, y_train)\n",
    "\n",
    "# Predict on the test set\n",
    "y_pred = regressor.predict(X_test)\n",
    "\n",
    "# Evaluate the model\n",
    "mse = mean_squared_error(y_test, y_pred)\n",
    "print(f'Mean Squared Error: {mse}')\n",
    "\n",
    "# Feature importance\n",
    "importances = regressor.feature_importances_\n",
    "feature_importance_df = pd.DataFrame({'Feature': X.columns, 'Importance': importances})\n",
    "feature_importance_df = feature_importance_df.sort_values(by='Importance', ascending=False)\n",
    "print(feature_importance_df.head(10))\n"
   ]
  }
 ],
 "metadata": {
  "language_info": {
   "name": "python"
  },
  "orig_nbformat": 4
 },
 "nbformat": 4,
 "nbformat_minor": 2
}
